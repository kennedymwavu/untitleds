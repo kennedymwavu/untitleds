{
 "cells": [
  {
   "cell_type": "markdown",
   "id": "1815e2b7",
   "metadata": {},
   "source": [
    "## REGRESSION ANALYSIS"
   ]
  },
  {
   "cell_type": "markdown",
   "id": "4b5c5716",
   "metadata": {},
   "source": [
    "### PREDICTING HEALTH INSURANCE PREMIUM USING MULTIPLE LINEAR REGRESSION"
   ]
  },
  {
   "cell_type": "markdown",
   "id": "94829721",
   "metadata": {},
   "source": [
    "#### Source of data: __https://www.kaggle.com/code/yogidsba/insurance-claims-eda-hypothesis-testing/data__"
   ]
  },
  {
   "cell_type": "markdown",
   "id": "9ac5ce40",
   "metadata": {},
   "source": [
    "#### About the Dataset\n",
    "`age` : age of policyholder\n",
    "\n",
    "`sex`: gender of policy holder (female=0, male=1)\n",
    "\n",
    "`bmi`: Body mass index, providing an understanding of body, weights that are relatively high or low relative to height, objective index of body weight $\\frac{kg}{m ^ 2}$ using the ratio of height to weight, ideally $18.5$ to $25$ steps: average walking steps per day of policyholder\n",
    "\n",
    "`children`: number of children / dependents of policyholder\n",
    "\n",
    "`smoker`: smoking state of policyholder (non-smoke=0; smoker=1)\n",
    "\n",
    "`region`: the residential area of policyholder in the US (northeast=0, northwest=1, southeast=2, southwest=3)\n",
    "\n",
    "`charges`: individual medical costs billed by health insurance"
   ]
  },
  {
   "cell_type": "markdown",
   "id": "cf5f1f6d",
   "metadata": {},
   "source": [
    "#### Import libraries"
   ]
  },
  {
   "cell_type": "code",
   "execution_count": 3,
   "id": "32b0d6be",
   "metadata": {},
   "outputs": [],
   "source": [
    "import os\n",
    "\n",
    "import pandas as pd\n",
    "import numpy as np\n",
    "\n",
    "import matplotlib.pyplot as plt\n",
    "import seaborn as sns\n",
    "\n",
    "from scipy.stats import spearmanr, pearsonr, norm\n",
    "\n",
    "from sklearn.pipeline import make_pipeline\n",
    "from sklearn.preprocessing import StandardScaler, LabelEncoder\n",
    "from sklearn.impute import SimpleImputer\n",
    "\n",
    "from sklearn.model_selection import train_test_split\n",
    "from sklearn.linear_model import LinearRegression, Ridge, Lasso\n",
    "\n",
    "from sklearn.metrics import (mean_squared_error, mean_absolute_error, r2_score, accuracy_score)\n",
    "\n",
    "import warnings\n",
    "warnings.simplefilter(action=\"ignore\", category=FutureWarning)"
   ]
  },
  {
   "cell_type": "markdown",
   "id": "995d2cca",
   "metadata": {},
   "source": [
    "### Read in the data"
   ]
  },
  {
   "cell_type": "code",
   "execution_count": 4,
   "id": "446e278a",
   "metadata": {},
   "outputs": [
    {
     "data": {
      "text/html": [
       "<div>\n",
       "<style scoped>\n",
       "    .dataframe tbody tr th:only-of-type {\n",
       "        vertical-align: middle;\n",
       "    }\n",
       "\n",
       "    .dataframe tbody tr th {\n",
       "        vertical-align: top;\n",
       "    }\n",
       "\n",
       "    .dataframe thead th {\n",
       "        text-align: right;\n",
       "    }\n",
       "</style>\n",
       "<table border=\"1\" class=\"dataframe\">\n",
       "  <thead>\n",
       "    <tr style=\"text-align: right;\">\n",
       "      <th></th>\n",
       "      <th>age</th>\n",
       "      <th>sex</th>\n",
       "      <th>bmi</th>\n",
       "      <th>children</th>\n",
       "      <th>smoker</th>\n",
       "      <th>region</th>\n",
       "      <th>charges</th>\n",
       "    </tr>\n",
       "  </thead>\n",
       "  <tbody>\n",
       "    <tr>\n",
       "      <th>0</th>\n",
       "      <td>19</td>\n",
       "      <td>female</td>\n",
       "      <td>27.900</td>\n",
       "      <td>0</td>\n",
       "      <td>yes</td>\n",
       "      <td>southwest</td>\n",
       "      <td>16884.92400</td>\n",
       "    </tr>\n",
       "    <tr>\n",
       "      <th>1</th>\n",
       "      <td>18</td>\n",
       "      <td>male</td>\n",
       "      <td>33.770</td>\n",
       "      <td>1</td>\n",
       "      <td>no</td>\n",
       "      <td>southeast</td>\n",
       "      <td>1725.55230</td>\n",
       "    </tr>\n",
       "    <tr>\n",
       "      <th>2</th>\n",
       "      <td>28</td>\n",
       "      <td>male</td>\n",
       "      <td>33.000</td>\n",
       "      <td>3</td>\n",
       "      <td>no</td>\n",
       "      <td>southeast</td>\n",
       "      <td>4449.46200</td>\n",
       "    </tr>\n",
       "    <tr>\n",
       "      <th>3</th>\n",
       "      <td>33</td>\n",
       "      <td>male</td>\n",
       "      <td>22.705</td>\n",
       "      <td>0</td>\n",
       "      <td>no</td>\n",
       "      <td>northwest</td>\n",
       "      <td>21984.47061</td>\n",
       "    </tr>\n",
       "    <tr>\n",
       "      <th>4</th>\n",
       "      <td>32</td>\n",
       "      <td>male</td>\n",
       "      <td>28.880</td>\n",
       "      <td>0</td>\n",
       "      <td>no</td>\n",
       "      <td>northwest</td>\n",
       "      <td>3866.85520</td>\n",
       "    </tr>\n",
       "  </tbody>\n",
       "</table>\n",
       "</div>"
      ],
      "text/plain": [
       "   age     sex     bmi  children smoker     region      charges\n",
       "0   19  female  27.900         0    yes  southwest  16884.92400\n",
       "1   18    male  33.770         1     no  southeast   1725.55230\n",
       "2   28    male  33.000         3     no  southeast   4449.46200\n",
       "3   33    male  22.705         0     no  northwest  21984.47061\n",
       "4   32    male  28.880         0     no  northwest   3866.85520"
      ]
     },
     "execution_count": 4,
     "metadata": {},
     "output_type": "execute_result"
    }
   ],
   "source": [
    "data = pd.read_csv(\"insurance.csv\")\n",
    "data.head()"
   ]
  },
  {
   "cell_type": "markdown",
   "id": "576d861d",
   "metadata": {},
   "source": [
    "### Data Inspection\n",
    "#### Get the general overview of the data"
   ]
  },
  {
   "cell_type": "markdown",
   "id": "16090e52",
   "metadata": {},
   "source": [
    "#### (i) Look at the shape of our data "
   ]
  },
  {
   "cell_type": "code",
   "execution_count": 5,
   "id": "7ea6dbe8",
   "metadata": {},
   "outputs": [
    {
     "name": "stdout",
     "output_type": "stream",
     "text": [
      "(1338, 7)\n"
     ]
    }
   ],
   "source": [
    "print(data.shape)\n",
    "\n",
    "#The data has 7 columns and 1338 rows."
   ]
  },
  {
   "cell_type": "markdown",
   "id": "9604fc01",
   "metadata": {},
   "source": [
    "#### (ii) Examine the data types of the different columns"
   ]
  },
  {
   "cell_type": "code",
   "execution_count": 6,
   "id": "2695e7cd",
   "metadata": {},
   "outputs": [
    {
     "name": "stdout",
     "output_type": "stream",
     "text": [
      "<class 'pandas.core.frame.DataFrame'>\n",
      "RangeIndex: 1338 entries, 0 to 1337\n",
      "Data columns (total 7 columns):\n",
      " #   Column    Non-Null Count  Dtype  \n",
      "---  ------    --------------  -----  \n",
      " 0   age       1338 non-null   int64  \n",
      " 1   sex       1338 non-null   object \n",
      " 2   bmi       1338 non-null   float64\n",
      " 3   children  1338 non-null   int64  \n",
      " 4   smoker    1338 non-null   object \n",
      " 5   region    1338 non-null   object \n",
      " 6   charges   1338 non-null   float64\n",
      "dtypes: float64(2), int64(2), object(3)\n",
      "memory usage: 73.3+ KB\n",
      "None\n"
     ]
    }
   ],
   "source": [
    "print(data.info())"
   ]
  },
  {
   "cell_type": "markdown",
   "id": "153be6ff",
   "metadata": {},
   "source": [
    "- The age column has integer values as expected\n",
    "- Sex is categorical variable with two labels, male and female, and thus should be object data type.\n",
    "- BMI column has decimal values therefore it has float data type.\n",
    "- Children should be integer.\n",
    "- Smoker is a categorical variable with two labels, yes or no, thus object.\n",
    "- There are 4 regions represented in the dataset thus the column is of object data type.\n",
    "- Charges should be float as it represents premiums paid. "
   ]
  },
  {
   "cell_type": "markdown",
   "id": "190486ae",
   "metadata": {},
   "source": [
    "### Data Exploration"
   ]
  },
  {
   "cell_type": "markdown",
   "id": "24ea1391",
   "metadata": {},
   "source": [
    "#### 1. Check for missing values"
   ]
  },
  {
   "cell_type": "code",
   "execution_count": 6,
   "id": "84f4fac0",
   "metadata": {},
   "outputs": [
    {
     "data": {
      "text/plain": [
       "age         0\n",
       "sex         0\n",
       "bmi         0\n",
       "children    0\n",
       "smoker      0\n",
       "region      0\n",
       "charges     0\n",
       "dtype: int64"
      ]
     },
     "execution_count": 6,
     "metadata": {},
     "output_type": "execute_result"
    }
   ],
   "source": [
    "data.isnull().sum()"
   ]
  },
  {
   "cell_type": "markdown",
   "id": "5057ea2e",
   "metadata": {},
   "source": [
    "- There are no missing values in all the columns"
   ]
  },
  {
   "cell_type": "markdown",
   "id": "fb0f6b84",
   "metadata": {},
   "source": [
    "#### 2. The 5 number summary of numerical columns"
   ]
  },
  {
   "cell_type": "code",
   "execution_count": 7,
   "id": "7cb316ac",
   "metadata": {},
   "outputs": [
    {
     "data": {
      "text/html": [
       "<div>\n",
       "<style scoped>\n",
       "    .dataframe tbody tr th:only-of-type {\n",
       "        vertical-align: middle;\n",
       "    }\n",
       "\n",
       "    .dataframe tbody tr th {\n",
       "        vertical-align: top;\n",
       "    }\n",
       "\n",
       "    .dataframe thead th {\n",
       "        text-align: right;\n",
       "    }\n",
       "</style>\n",
       "<table border=\"1\" class=\"dataframe\">\n",
       "  <thead>\n",
       "    <tr style=\"text-align: right;\">\n",
       "      <th></th>\n",
       "      <th>age</th>\n",
       "      <th>bmi</th>\n",
       "      <th>children</th>\n",
       "      <th>charges</th>\n",
       "    </tr>\n",
       "  </thead>\n",
       "  <tbody>\n",
       "    <tr>\n",
       "      <th>count</th>\n",
       "      <td>1338.000000</td>\n",
       "      <td>1338.000000</td>\n",
       "      <td>1338.000000</td>\n",
       "      <td>1338.000000</td>\n",
       "    </tr>\n",
       "    <tr>\n",
       "      <th>mean</th>\n",
       "      <td>39.207025</td>\n",
       "      <td>30.663397</td>\n",
       "      <td>1.094918</td>\n",
       "      <td>13270.422265</td>\n",
       "    </tr>\n",
       "    <tr>\n",
       "      <th>std</th>\n",
       "      <td>14.049960</td>\n",
       "      <td>6.098187</td>\n",
       "      <td>1.205493</td>\n",
       "      <td>12110.011237</td>\n",
       "    </tr>\n",
       "    <tr>\n",
       "      <th>min</th>\n",
       "      <td>18.000000</td>\n",
       "      <td>15.960000</td>\n",
       "      <td>0.000000</td>\n",
       "      <td>1121.873900</td>\n",
       "    </tr>\n",
       "    <tr>\n",
       "      <th>25%</th>\n",
       "      <td>27.000000</td>\n",
       "      <td>26.296250</td>\n",
       "      <td>0.000000</td>\n",
       "      <td>4740.287150</td>\n",
       "    </tr>\n",
       "    <tr>\n",
       "      <th>50%</th>\n",
       "      <td>39.000000</td>\n",
       "      <td>30.400000</td>\n",
       "      <td>1.000000</td>\n",
       "      <td>9382.033000</td>\n",
       "    </tr>\n",
       "    <tr>\n",
       "      <th>75%</th>\n",
       "      <td>51.000000</td>\n",
       "      <td>34.693750</td>\n",
       "      <td>2.000000</td>\n",
       "      <td>16639.912515</td>\n",
       "    </tr>\n",
       "    <tr>\n",
       "      <th>max</th>\n",
       "      <td>64.000000</td>\n",
       "      <td>53.130000</td>\n",
       "      <td>5.000000</td>\n",
       "      <td>63770.428010</td>\n",
       "    </tr>\n",
       "  </tbody>\n",
       "</table>\n",
       "</div>"
      ],
      "text/plain": [
       "               age          bmi     children       charges\n",
       "count  1338.000000  1338.000000  1338.000000   1338.000000\n",
       "mean     39.207025    30.663397     1.094918  13270.422265\n",
       "std      14.049960     6.098187     1.205493  12110.011237\n",
       "min      18.000000    15.960000     0.000000   1121.873900\n",
       "25%      27.000000    26.296250     0.000000   4740.287150\n",
       "50%      39.000000    30.400000     1.000000   9382.033000\n",
       "75%      51.000000    34.693750     2.000000  16639.912515\n",
       "max      64.000000    53.130000     5.000000  63770.428010"
      ]
     },
     "execution_count": 7,
     "metadata": {},
     "output_type": "execute_result"
    }
   ],
   "source": [
    "data[[\"age\", \"bmi\", \"children\", \"charges\"]].describe()"
   ]
  },
  {
   "cell_type": "markdown",
   "id": "34b24cba",
   "metadata": {},
   "source": [
    "### Explanatory Data Analysis"
   ]
  },
  {
   "cell_type": "markdown",
   "id": "d1906657",
   "metadata": {},
   "source": [
    "#### 1. Correlation heatmap\n",
    "\n",
    "- This is used to check for multicollinearity between the indpendent variables.\n",
    "- We exclude the 'charges' column because it will be our independent variable."
   ]
  },
  {
   "cell_type": "code",
   "execution_count": 8,
   "id": "322ca30a",
   "metadata": {},
   "outputs": [
    {
     "data": {
      "image/png": "[encoded data removed]",
      "text/plain": [
       "<Figure size 432x288 with 2 Axes>"
      ]
     },
     "metadata": {
      "needs_background": "light"
     },
     "output_type": "display_data"
    }
   ],
   "source": [
    "correlation = data.select_dtypes(\"number\").drop(columns=\"charges\").corr()\n",
    "correlation\n",
    "\n",
    "#Plot a heatmap to check for multicollinearity in the features except the target feature\n",
    "sns.heatmap(correlation, annot=True);"
   ]
  },
  {
   "cell_type": "markdown",
   "id": "3c603386",
   "metadata": {},
   "source": [
    "- We can see that there is no significant multicollinearity between the numerical independent variables"
   ]
  },
  {
   "cell_type": "markdown",
   "id": "dabf7b1c",
   "metadata": {},
   "source": [
    "### Correlation heatmap after encoding"
   ]
  },
  {
   "cell_type": "code",
   "execution_count": 9,
   "id": "07cc1af2",
   "metadata": {},
   "outputs": [
    {
     "data": {
      "image/png": "[encoded data removed]",
      "text/plain": [
       "<Figure size 864x576 with 2 Axes>"
      ]
     },
     "metadata": {
      "needs_background": "light"
     },
     "output_type": "display_data"
    }
   ],
   "source": [
    "#Encode the categorical variables then plot heatmap\n",
    "correlation = data.apply(LabelEncoder().fit_transform).select_dtypes(\"number\").corr()\n",
    "\n",
    "fig, ax = plt.subplots(1, 1, figsize=(12, 8))\n",
    "ax = sns.heatmap(correlation, annot=True, cmap=\"YlGnBu\")"
   ]
  },
  {
   "cell_type": "markdown",
   "id": "0b3c0190",
   "metadata": {},
   "source": [
    "We can there is a moderate correlation between 'smoker' and 'age' variables and charges."
   ]
  },
  {
   "cell_type": "markdown",
   "id": "7f122c01",
   "metadata": {},
   "source": [
    "#### 2. Data Visualizations"
   ]
  },
  {
   "cell_type": "markdown",
   "id": "9e4137b8",
   "metadata": {},
   "source": [
    "#### Encoding\n",
    "\n",
    "###### When fitting a linear regression model, scikit-learn will do some mathematical operations. 'sex' column and 'smoker' column are non-numerical. Therefore, before building our models we need to encode these information so that it's represented numerically. \n",
    "\n",
    "###### We also need the encoded information to do detailed correlation analysis"
   ]
  },
  {
   "cell_type": "code",
   "execution_count": 27,
   "id": "11130640",
   "metadata": {},
   "outputs": [
    {
     "data": {
      "text/html": [
       "<div>\n",
       "<style scoped>\n",
       "    .dataframe tbody tr th:only-of-type {\n",
       "        vertical-align: middle;\n",
       "    }\n",
       "\n",
       "    .dataframe tbody tr th {\n",
       "        vertical-align: top;\n",
       "    }\n",
       "\n",
       "    .dataframe thead th {\n",
       "        text-align: right;\n",
       "    }\n",
       "</style>\n",
       "<table border=\"1\" class=\"dataframe\">\n",
       "  <thead>\n",
       "    <tr style=\"text-align: right;\">\n",
       "      <th></th>\n",
       "      <th>age</th>\n",
       "      <th>sex</th>\n",
       "      <th>bmi</th>\n",
       "      <th>children</th>\n",
       "      <th>smoker</th>\n",
       "      <th>region</th>\n",
       "      <th>charges</th>\n",
       "    </tr>\n",
       "  </thead>\n",
       "  <tbody>\n",
       "    <tr>\n",
       "      <th>0</th>\n",
       "      <td>19</td>\n",
       "      <td>0</td>\n",
       "      <td>27.900</td>\n",
       "      <td>0</td>\n",
       "      <td>1</td>\n",
       "      <td>3</td>\n",
       "      <td>16884.92400</td>\n",
       "    </tr>\n",
       "    <tr>\n",
       "      <th>1</th>\n",
       "      <td>18</td>\n",
       "      <td>1</td>\n",
       "      <td>33.770</td>\n",
       "      <td>1</td>\n",
       "      <td>0</td>\n",
       "      <td>2</td>\n",
       "      <td>1725.55230</td>\n",
       "    </tr>\n",
       "    <tr>\n",
       "      <th>2</th>\n",
       "      <td>28</td>\n",
       "      <td>1</td>\n",
       "      <td>33.000</td>\n",
       "      <td>3</td>\n",
       "      <td>0</td>\n",
       "      <td>2</td>\n",
       "      <td>4449.46200</td>\n",
       "    </tr>\n",
       "    <tr>\n",
       "      <th>3</th>\n",
       "      <td>33</td>\n",
       "      <td>1</td>\n",
       "      <td>22.705</td>\n",
       "      <td>0</td>\n",
       "      <td>0</td>\n",
       "      <td>1</td>\n",
       "      <td>21984.47061</td>\n",
       "    </tr>\n",
       "    <tr>\n",
       "      <th>4</th>\n",
       "      <td>32</td>\n",
       "      <td>1</td>\n",
       "      <td>28.880</td>\n",
       "      <td>0</td>\n",
       "      <td>0</td>\n",
       "      <td>1</td>\n",
       "      <td>3866.85520</td>\n",
       "    </tr>\n",
       "  </tbody>\n",
       "</table>\n",
       "</div>"
      ],
      "text/plain": [
       "   age  sex     bmi  children  smoker  region      charges\n",
       "0   19    0  27.900         0       1       3  16884.92400\n",
       "1   18    1  33.770         1       0       2   1725.55230\n",
       "2   28    1  33.000         3       0       2   4449.46200\n",
       "3   33    1  22.705         0       0       1  21984.47061\n",
       "4   32    1  28.880         0       0       1   3866.85520"
      ]
     },
     "execution_count": 27,
     "metadata": {},
     "output_type": "execute_result"
    }
   ],
   "source": [
    "#Encode the categorical variables \n",
    "cols = [\"sex\", \"smoker\", \"region\"]\n",
    "\n",
    "data[cols] = data[cols].apply(LabelEncoder().fit_transform)\n",
    "data.head()"
   ]
  },
  {
   "cell_type": "markdown",
   "id": "1a095f26",
   "metadata": {},
   "source": [
    "#### 1. Correlation analysis"
   ]
  },
  {
   "cell_type": "markdown",
   "id": "6df6b478",
   "metadata": {},
   "source": [
    "##### (i) How age is affecting charges"
   ]
  },
  {
   "cell_type": "code",
   "execution_count": 11,
   "id": "01a18d3a",
   "metadata": {},
   "outputs": [
    {
     "name": "stdout",
     "output_type": "stream",
     "text": [
      "Correlation coefficient is: 0.299\n",
      "Its p-value is: 0.0\n"
     ]
    }
   ],
   "source": [
    "# Age vs Charges\n",
    "cor = pearsonr(data.age, data.charges)\n",
    "age_coef = round(cor[0], 4)\n",
    "age_pv = round(cor[1], 6)\n",
    "\n",
    "print(\"Correlation coefficient is: {}\".format(age_coef))\n",
    "print(\"Its p-value is: {}\".format(age_pv))"
   ]
  },
  {
   "cell_type": "markdown",
   "id": "0dbe6c69",
   "metadata": {},
   "source": [
    "There exists a positive correlation between age and charges a person is paying, but the correlation is weak."
   ]
  },
  {
   "cell_type": "code",
   "execution_count": 12,
   "id": "8ab1ec51",
   "metadata": {},
   "outputs": [
    {
     "data": {
      "image/png": "[encoded data removed]",
      "text/plain": [
       "<Figure size 432x288 with 1 Axes>"
      ]
     },
     "metadata": {
      "needs_background": "light"
     },
     "output_type": "display_data"
    }
   ],
   "source": [
    "# Scatterplot of age and charges\n",
    "\n",
    "sns.scatterplot(x='age',y='charges',data=data);"
   ]
  },
  {
   "cell_type": "markdown",
   "id": "52b66f55",
   "metadata": {},
   "source": [
    "From this plot we can see the weak positive correlation between these two variables."
   ]
  },
  {
   "cell_type": "code",
   "execution_count": 13,
   "id": "64d2c6ed",
   "metadata": {},
   "outputs": [
    {
     "data": {
      "image/png": "[encoded data removed]",
      "text/plain": [
       "<Figure size 720x432 with 1 Axes>"
      ]
     },
     "metadata": {
      "needs_background": "light"
     },
     "output_type": "display_data"
    }
   ],
   "source": [
    "#Bar graph of Age and Charges\n",
    "df = data.copy()\n",
    "bins = [0,20,30,40,50,60,100]\n",
    "df['age_range'] = pd.cut(df['age'], bins,labels=('0-20','21-30','31-40','41-50','51-60','61 and above'))\n",
    "df.head()\n",
    "\n",
    "\n",
    "fig, ax = plt.subplots(figsize=(10, 6))\n",
    "sns.barplot(x='age_range',y='charges',data = df).set(title='Age Vs Charges');"
   ]
  },
  {
   "cell_type": "markdown",
   "id": "4d94c852",
   "metadata": {},
   "source": [
    "From this plot, we can see that as age increases, the charges also increases."
   ]
  },
  {
   "cell_type": "markdown",
   "id": "936d5052",
   "metadata": {},
   "source": [
    "#### (ii) How is the smoker status affecting charges"
   ]
  },
  {
   "cell_type": "code",
   "execution_count": 14,
   "id": "b1cb2ae2",
   "metadata": {},
   "outputs": [
    {
     "name": "stdout",
     "output_type": "stream",
     "text": [
      "Correlation coefficient is: 0.7873\n",
      "Its p-value is: 0.0\n"
     ]
    }
   ],
   "source": [
    "# Smoker vs Charges\n",
    "cor = pearsonr(data.smoker, data.charges)\n",
    "smoker_coef = round(cor[0], 4)\n",
    "smoker_pv = round(cor[1], 6)\n",
    "\n",
    "print(\"Correlation coefficient is: {}\".format(smoker_coef))\n",
    "print(\"Its p-value is: {}\".format(smoker_pv))"
   ]
  },
  {
   "cell_type": "markdown",
   "id": "c089bde7",
   "metadata": {},
   "source": [
    "We can see that there is a strong positive correlation between smoker status and charges."
   ]
  },
  {
   "cell_type": "code",
   "execution_count": 15,
   "id": "fd3f5c59",
   "metadata": {},
   "outputs": [
    {
     "data": {
      "image/png": "[encoded data removed]",
      "text/plain": [
       "<Figure size 432x288 with 1 Axes>"
      ]
     },
     "metadata": {
      "needs_background": "light"
     },
     "output_type": "display_data"
    }
   ],
   "source": [
    "# Scatterplot of smoker and charges\n",
    "\n",
    "sns.scatterplot(x='smoker',y='charges',data=data);"
   ]
  },
  {
   "cell_type": "markdown",
   "id": "d1b9627f",
   "metadata": {},
   "source": [
    "We can see that those who smoke are paying more than non-smokers."
   ]
  },
  {
   "cell_type": "code",
   "execution_count": 16,
   "id": "9f1a99e5",
   "metadata": {},
   "outputs": [
    {
     "data": {
      "image/png": "[encoded data removed]",
      "text/plain": [
       "<Figure size 720x432 with 1 Axes>"
      ]
     },
     "metadata": {
      "needs_background": "light"
     },
     "output_type": "display_data"
    }
   ],
   "source": [
    "fig, ax = plt.subplots(figsize=(10, 6))\n",
    "sns.barplot(x='smoker',y='charges',data = data).set(title='Smoker Status Vs Charges');"
   ]
  },
  {
   "cell_type": "markdown",
   "id": "a627f4cd",
   "metadata": {},
   "source": [
    "We can see that charges for smokers are really high compared to non-smokers."
   ]
  },
  {
   "cell_type": "markdown",
   "id": "8789a001",
   "metadata": {},
   "source": [
    "#### (iii) How do charges differ for the different gender"
   ]
  },
  {
   "cell_type": "code",
   "execution_count": 17,
   "id": "4f0ff58f",
   "metadata": {},
   "outputs": [
    {
     "name": "stdout",
     "output_type": "stream",
     "text": [
      "Correlation coefficient is: 0.0573\n",
      "Its p-value is: 0.036133\n"
     ]
    }
   ],
   "source": [
    "# Sex vs Charges\n",
    "cor = pearsonr(data.sex, data.charges)\n",
    "sex_coef = round(cor[0], 4)\n",
    "sex_pv = round(cor[1], 6)\n",
    "\n",
    "print(\"Correlation coefficient is: {}\".format(sex_coef))\n",
    "print(\"Its p-value is: {}\".format(sex_pv))"
   ]
  },
  {
   "cell_type": "markdown",
   "id": "5fd62eec",
   "metadata": {},
   "source": [
    "There is a weak positive correlation between sex and charges."
   ]
  },
  {
   "cell_type": "code",
   "execution_count": 18,
   "id": "6469c6e5",
   "metadata": {},
   "outputs": [
    {
     "data": {
      "image/png": "[encoded data removed]",
      "text/plain": [
       "<Figure size 432x288 with 1 Axes>"
      ]
     },
     "metadata": {
      "needs_background": "light"
     },
     "output_type": "display_data"
    }
   ],
   "source": [
    "# Scatterplot of sex and charges\n",
    "\n",
    "sns.scatterplot(x='sex',y='charges',data=data);"
   ]
  },
  {
   "cell_type": "markdown",
   "id": "af7bc987",
   "metadata": {},
   "source": [
    "The charges paid by males and female are the same. There is no significant difference."
   ]
  },
  {
   "cell_type": "code",
   "execution_count": 19,
   "id": "532ade0e",
   "metadata": {},
   "outputs": [
    {
     "data": {
      "image/png": "[encoded data removed]",
      "text/plain": [
       "<Figure size 720x432 with 1 Axes>"
      ]
     },
     "metadata": {
      "needs_background": "light"
     },
     "output_type": "display_data"
    }
   ],
   "source": [
    "fig, ax = plt.subplots(figsize=(10, 6))\n",
    "sns.barplot(x='sex',y='charges',data = data).set(title='Sex Vs Charges');"
   ]
  },
  {
   "cell_type": "markdown",
   "id": "d70b80ed",
   "metadata": {},
   "source": [
    "Males and females almost pay equal charges. No significant difference."
   ]
  },
  {
   "cell_type": "markdown",
   "id": "38d7369a",
   "metadata": {},
   "source": [
    "#### (iv) How do BMI and Charges relate"
   ]
  },
  {
   "cell_type": "code",
   "execution_count": 20,
   "id": "77bab0a9",
   "metadata": {},
   "outputs": [
    {
     "name": "stdout",
     "output_type": "stream",
     "text": [
      "Correlation coefficient is: 0.1983\n",
      "Its p-value is: 0.0\n"
     ]
    }
   ],
   "source": [
    "# BMI vs Charges\n",
    "cor = pearsonr(data.bmi, data.charges)\n",
    "bmi_coef = round(cor[0], 4)\n",
    "bmi_pv = round(cor[1], 6)\n",
    "\n",
    "print(\"Correlation coefficient is: {}\".format(bmi_coef))\n",
    "print(\"Its p-value is: {}\".format(bmi_pv))"
   ]
  },
  {
   "cell_type": "markdown",
   "id": "a2c0af68",
   "metadata": {},
   "source": [
    "There is a weak but significant positive correlation between bmi and charges"
   ]
  },
  {
   "cell_type": "code",
   "execution_count": 21,
   "id": "4b160679",
   "metadata": {},
   "outputs": [
    {
     "data": {
      "image/png": "[encoded data removed]",
      "text/plain": [
       "<Figure size 432x288 with 1 Axes>"
      ]
     },
     "metadata": {
      "needs_background": "light"
     },
     "output_type": "display_data"
    }
   ],
   "source": [
    "# Scatterplot of bmi and charges\n",
    "\n",
    "sns.scatterplot(x='bmi',y='charges',data=data);"
   ]
  },
  {
   "cell_type": "markdown",
   "id": "390bd16a",
   "metadata": {},
   "source": [
    "Most individuals pay charges around $10000. However, we can notice that the charges are more for some people with higher bmi."
   ]
  },
  {
   "cell_type": "code",
   "execution_count": 22,
   "id": "93c45534",
   "metadata": {},
   "outputs": [
    {
     "data": {
      "image/png": "[encoded data removed]",
      "text/plain": [
       "<Figure size 720x432 with 1 Axes>"
      ]
     },
     "metadata": {
      "needs_background": "light"
     },
     "output_type": "display_data"
    }
   ],
   "source": [
    "df = data.copy()\n",
    "bins = [10,20,30,40,50,60]\n",
    "df['bmi_range'] = pd.cut(df['bmi'], bins,labels=('11-20','21-30','31-40','41-50','51 and above'))\n",
    "df.head()\n",
    "\n",
    "fig, ax = plt.subplots(figsize=(10, 6))\n",
    "sns.barplot(x='bmi_range',y='charges',data = df).set(title='BMI Vs Charges');"
   ]
  },
  {
   "cell_type": "markdown",
   "id": "0f8a559d",
   "metadata": {},
   "source": [
    "We can see that charges increases progressively as bmi increases."
   ]
  },
  {
   "cell_type": "markdown",
   "id": "b845968d",
   "metadata": {},
   "source": [
    "#### (v) Does the number of children affect charges"
   ]
  },
  {
   "cell_type": "code",
   "execution_count": 23,
   "id": "c61ca3e1",
   "metadata": {},
   "outputs": [
    {
     "name": "stdout",
     "output_type": "stream",
     "text": [
      "Correlation coefficient is: 0.068\n",
      "Its p-value is: 0.012852\n"
     ]
    }
   ],
   "source": [
    "# Children vs Charges\n",
    "cor = pearsonr(data.children, data.charges)\n",
    "child_coef = round(cor[0], 4)\n",
    "child_pv = round(cor[1], 6)\n",
    "\n",
    "print(\"Correlation coefficient is: {}\".format(child_coef))\n",
    "print(\"Its p-value is: {}\".format(child_pv))"
   ]
  },
  {
   "cell_type": "markdown",
   "id": "8bb1d9eb",
   "metadata": {},
   "source": [
    "There is a weak positive correlation between the number of children and charges paid. The coefficient is significant though."
   ]
  },
  {
   "cell_type": "code",
   "execution_count": 24,
   "id": "7f7dc8a0",
   "metadata": {},
   "outputs": [
    {
     "data": {
      "image/png": "[encoded data removed]",
      "text/plain": [
       "<Figure size 432x288 with 1 Axes>"
      ]
     },
     "metadata": {
      "needs_background": "light"
     },
     "output_type": "display_data"
    }
   ],
   "source": [
    "# Scatterplot of children and charges\n",
    "\n",
    "sns.scatterplot(x='children',y='charges',data=data);"
   ]
  },
  {
   "cell_type": "markdown",
   "id": "4530224b",
   "metadata": {},
   "source": [
    "We can see that the number of children does not significantly affect the charges that individuals pay. Charges does not vary much."
   ]
  },
  {
   "cell_type": "code",
   "execution_count": 25,
   "id": "871b2928",
   "metadata": {},
   "outputs": [
    {
     "data": {
      "image/png": "[encoded data removed]",
      "text/plain": [
       "<Figure size 720x432 with 1 Axes>"
      ]
     },
     "metadata": {
      "needs_background": "light"
     },
     "output_type": "display_data"
    }
   ],
   "source": [
    "fig, ax = plt.subplots(figsize=(10, 6))\n",
    "sns.barplot(x='children',y='charges',data = data).set(title='Children Vs Charges');"
   ]
  },
  {
   "cell_type": "markdown",
   "id": "e57cb293",
   "metadata": {},
   "source": [
    "There is almost uniform distribution of charges across the different numbers of children."
   ]
  },
  {
   "cell_type": "markdown",
   "id": "a2912e6c",
   "metadata": {},
   "source": [
    "#### (vi) Does the region an individual come from really matter? "
   ]
  },
  {
   "cell_type": "code",
   "execution_count": 28,
   "id": "06bef8a4",
   "metadata": {},
   "outputs": [
    {
     "name": "stdout",
     "output_type": "stream",
     "text": [
      "Correlation coefficient is: -0.0062\n",
      "Its p-value is: 0.820518\n"
     ]
    }
   ],
   "source": [
    "# Region vs Charges\n",
    "cor = pearsonr(data.region, data.charges)\n",
    "region_coef = round(cor[0], 4)\n",
    "region_pv = round(cor[1], 6)\n",
    "\n",
    "print(\"Correlation coefficient is: {}\".format(region_coef))\n",
    "print(\"Its p-value is: {}\".format(region_pv))"
   ]
  },
  {
   "cell_type": "markdown",
   "id": "7231d427",
   "metadata": {},
   "source": [
    "There is a weak negative correlation between region and charges. Moreover, the correlation is not statistically significant."
   ]
  },
  {
   "cell_type": "code",
   "execution_count": 29,
   "id": "a3701d9d",
   "metadata": {},
   "outputs": [
    {
     "data": {
      "image/png": "[encoded data removed]",
      "text/plain": [
       "<Figure size 432x288 with 1 Axes>"
      ]
     },
     "metadata": {
      "needs_background": "light"
     },
     "output_type": "display_data"
    }
   ],
   "source": [
    "# Scatterplot of children and charges\n",
    "\n",
    "sns.scatterplot(x='region',y='charges',data=data);"
   ]
  },
  {
   "cell_type": "markdown",
   "id": "152ba099",
   "metadata": {},
   "source": [
    "Individuals from the different regions pay approximately equal charges."
   ]
  },
  {
   "cell_type": "code",
   "execution_count": 30,
   "id": "5b17534e",
   "metadata": {},
   "outputs": [
    {
     "data": {
      "image/png": "[encoded data removed]",
      "text/plain": [
       "<Figure size 720x432 with 1 Axes>"
      ]
     },
     "metadata": {
      "needs_background": "light"
     },
     "output_type": "display_data"
    }
   ],
   "source": [
    "fig, ax = plt.subplots(figsize=(10, 6))\n",
    "sns.barplot(x='region',y='charges',data = data).set(title='Region Vs Charges');"
   ]
  },
  {
   "cell_type": "markdown",
   "id": "1a3acc29",
   "metadata": {},
   "source": [
    "The charges for the different regions are not significantly different."
   ]
  },
  {
   "cell_type": "markdown",
   "id": "914b2b84",
   "metadata": {},
   "source": [
    "##### We will drop the sex column and the region variable as we have seen that they are not statistically correlated with charges."
   ]
  },
  {
   "cell_type": "markdown",
   "id": "2c7edccf",
   "metadata": {},
   "source": [
    "#### 2. Distribution plots"
   ]
  },
  {
   "cell_type": "code",
   "execution_count": 31,
   "id": "ab4ee2bf",
   "metadata": {},
   "outputs": [
    {
     "data": {
      "image/png": "[encoded data removed]",
      "text/plain": [
       "<Figure size 432x288 with 1 Axes>"
      ]
     },
     "metadata": {
      "needs_background": "light"
     },
     "output_type": "display_data"
    }
   ],
   "source": [
    "#age distribution\n",
    "fig, ax = plt.subplots()\n",
    "\n",
    "sns.histplot(data.age, stat=\"density\", ax=ax, kde=True)\n",
    "\n",
    "plt.show();"
   ]
  },
  {
   "cell_type": "markdown",
   "id": "857ba7d3",
   "metadata": {},
   "source": [
    "Age is approximately uniformly distributed"
   ]
  },
  {
   "cell_type": "code",
   "execution_count": 32,
   "id": "dd45c311",
   "metadata": {},
   "outputs": [
    {
     "data": {
      "image/png": "[encoded data removed]",
      "text/plain": [
       "<Figure size 432x288 with 1 Axes>"
      ]
     },
     "metadata": {
      "needs_background": "light"
     },
     "output_type": "display_data"
    }
   ],
   "source": [
    "#bmi distribution\n",
    "fig, ax = plt.subplots()\n",
    "\n",
    "sns.histplot(data.bmi, stat=\"density\", ax=ax, kde=True)\n",
    "\n",
    "plt.show();"
   ]
  },
  {
   "cell_type": "markdown",
   "id": "a5497098",
   "metadata": {},
   "source": [
    "The bmi of policyholders is normally distributed"
   ]
  },
  {
   "cell_type": "code",
   "execution_count": 33,
   "id": "2e74f6ba",
   "metadata": {},
   "outputs": [
    {
     "data": {
      "image/png": "[encoded data removed]",
      "text/plain": [
       "<Figure size 432x288 with 1 Axes>"
      ]
     },
     "metadata": {
      "needs_background": "light"
     },
     "output_type": "display_data"
    }
   ],
   "source": [
    "#charges distribution\n",
    "fig, ax = plt.subplots()\n",
    "\n",
    "sns.histplot(data.charges, stat=\"density\", ax=ax, kde=True)\n",
    "\n",
    "plt.show();"
   ]
  },
  {
   "cell_type": "markdown",
   "id": "9cea6492",
   "metadata": {},
   "source": [
    "The amount of charges that the policyholders pay to the insurer are skewed to the right. There are a higher number of premiums that are below $20000"
   ]
  },
  {
   "cell_type": "markdown",
   "id": "27e679c3",
   "metadata": {},
   "source": [
    "#### 3. Boxplots to detect outliers"
   ]
  },
  {
   "cell_type": "code",
   "execution_count": 34,
   "id": "70385013",
   "metadata": {},
   "outputs": [
    {
     "data": {
      "image/png": "[encoded data removed]",
      "text/plain": [
       "<Figure size 432x288 with 1 Axes>"
      ]
     },
     "metadata": {
      "needs_background": "light"
     },
     "output_type": "display_data"
    }
   ],
   "source": [
    "# Create boxplot to show the distributions of charges\n",
    "fig, ax = plt.subplots()\n",
    "\n",
    "sns.boxplot(y=\"charges\", data=data, ax=ax)\n",
    "# Label axes\n",
    "plt.ylabel(\"Charges\")\n",
    "plt.title(\"Distribution of Premiums\")\n",
    "\n",
    "plt.show();"
   ]
  },
  {
   "cell_type": "code",
   "execution_count": 35,
   "id": "302609e0",
   "metadata": {},
   "outputs": [
    {
     "data": {
      "image/png": "[encoded data removed]",
      "text/plain": [
       "<Figure size 432x288 with 1 Axes>"
      ]
     },
     "metadata": {
      "needs_background": "light"
     },
     "output_type": "display_data"
    }
   ],
   "source": [
    "# Create boxplot to show age ranges of individuals\n",
    "fig, ax = plt.subplots()\n",
    "\n",
    "sns.boxplot(y=\"age\", data=data, ax=ax)\n",
    "# Label axes\n",
    "plt.ylabel(\"Ages\")\n",
    "plt.title(\"Distribution of Ages\")\n",
    "\n",
    "plt.show();"
   ]
  },
  {
   "cell_type": "markdown",
   "id": "7744a6c4",
   "metadata": {},
   "source": [
    "There are no extreme ages."
   ]
  },
  {
   "cell_type": "code",
   "execution_count": 36,
   "id": "965c4290",
   "metadata": {},
   "outputs": [
    {
     "data": {
      "image/png": "[encoded data removed]",
      "text/plain": [
       "<Figure size 432x288 with 1 Axes>"
      ]
     },
     "metadata": {
      "needs_background": "light"
     },
     "output_type": "display_data"
    }
   ],
   "source": [
    "# Create boxplot to show the bmi ranges\n",
    "fig, ax = plt.subplots()\n",
    "\n",
    "sns.boxplot(y=\"bmi\", data=data, ax=ax)\n",
    "# Label axes\n",
    "plt.ylabel(\"BMI\")\n",
    "plt.title(\"Distribution of BMI\")\n",
    "\n",
    "plt.show();"
   ]
  },
  {
   "cell_type": "markdown",
   "id": "da12bc43",
   "metadata": {},
   "source": [
    "There are a few outliers in the bmi column. We can observe that some bmi are above 50."
   ]
  },
  {
   "cell_type": "markdown",
   "id": "a1fe675e",
   "metadata": {},
   "source": [
    "There are a number of ouliers in the charges column. Some individuals are being charged extremely high premiums than the rest."
   ]
  },
  {
   "cell_type": "markdown",
   "id": "3ec9f075",
   "metadata": {},
   "source": [
    "### Data Pre-Processing and Cleaning"
   ]
  },
  {
   "cell_type": "markdown",
   "id": "d7177c25",
   "metadata": {},
   "source": [
    "#### Drop the 'region' and 'sex' columns"
   ]
  },
  {
   "cell_type": "code",
   "execution_count": 39,
   "id": "94c03521",
   "metadata": {},
   "outputs": [],
   "source": [
    "data.drop(columns=[\"sex\", \"region\"], inplace = True)"
   ]
  },
  {
   "cell_type": "markdown",
   "id": "19211b8d",
   "metadata": {},
   "source": [
    "### REGRESSION ANALYSIS\n",
    "\n",
    "#### In this project we'll look into 3 different regression models. That is:\n",
    "1. Simple Linear Regression\n",
    "2. Multiple Linear Regression\n",
    "3. Ridge Regression"
   ]
  },
  {
   "cell_type": "markdown",
   "id": "4dbeea2f",
   "metadata": {},
   "source": [
    "Linear Regression is a machine learning algorithm that models a target prediction value based on independent variables. This is an algorithm that is based on supervised learning.\n",
    "It is mostly used for finding out the relationship between variables and forecasting."
   ]
  },
  {
   "cell_type": "markdown",
   "id": "0b87b4a2",
   "metadata": {},
   "source": [
    "### 1. Simple Linear Regression\n",
    "\n",
    "For the simple linear regression I will use the bmi variable as the independent variable.\n",
    "I have picked the bmi variable because it is one of the continuous variable that had significant correlation with charges"
   ]
  },
  {
   "cell_type": "markdown",
   "id": "a48f46dd",
   "metadata": {},
   "source": [
    "#### Data selection"
   ]
  },
  {
   "cell_type": "code",
   "execution_count": 45,
   "id": "fef5aaf0",
   "metadata": {},
   "outputs": [],
   "source": [
    "target = \"charges\"\n",
    "features = \"bmi\"\n",
    "\n",
    "y = data[target]\n",
    "X = data[[features]]"
   ]
  },
  {
   "cell_type": "markdown",
   "id": "39948f45",
   "metadata": {},
   "source": [
    "#### Split data"
   ]
  },
  {
   "cell_type": "code",
   "execution_count": 46,
   "id": "974236a6",
   "metadata": {},
   "outputs": [
    {
     "name": "stdout",
     "output_type": "stream",
     "text": [
      "Train set: (1070, 1) (1070,)\n",
      "Test set: (268, 1) (268,)\n"
     ]
    }
   ],
   "source": [
    "X_train, X_test, y_train, y_test = train_test_split(X, y, test_size=0.2, random_state=42)\n",
    "print('Train set:', X_train.shape, y_train.shape)\n",
    "print('Test set:', X_test.shape, y_test.shape)"
   ]
  },
  {
   "cell_type": "markdown",
   "id": "227ca632",
   "metadata": {},
   "source": [
    "#### Build Model"
   ]
  },
  {
   "cell_type": "code",
   "execution_count": 47,
   "id": "78ce66c9",
   "metadata": {},
   "outputs": [
    {
     "data": {
      "text/plain": [
       "LinearRegression()"
      ]
     },
     "execution_count": 47,
     "metadata": {},
     "output_type": "execute_result"
    }
   ],
   "source": [
    "#Instantiate the linear regression model\n",
    "simple_model = LinearRegression()\n",
    "\n",
    "#Train the model\n",
    "simple_model.fit(X_train, y_train)"
   ]
  },
  {
   "cell_type": "markdown",
   "id": "b12b2a71",
   "metadata": {},
   "source": [
    "#### Model predictions"
   ]
  },
  {
   "cell_type": "code",
   "execution_count": 48,
   "id": "050c1c60",
   "metadata": {},
   "outputs": [
    {
     "data": {
      "text/plain": [
       "array([11232.66307168, 13134.01812818, 11903.72956221, 11456.35190186,\n",
       "       13879.64756211])"
      ]
     },
     "execution_count": 48,
     "metadata": {},
     "output_type": "execute_result"
    }
   ],
   "source": [
    "y_hat = simple_model.predict(X_test)\n",
    "\n",
    "#Check a few lines of the predictions\n",
    "y_hat[:5]"
   ]
  },
  {
   "cell_type": "markdown",
   "id": "38879bad",
   "metadata": {},
   "source": [
    "#### Plot the regression line"
   ]
  },
  {
   "cell_type": "code",
   "execution_count": 49,
   "id": "5095d4a1",
   "metadata": {},
   "outputs": [
    {
     "data": {
      "image/png": "[encoded data removed]",
      "text/plain": [
       "<Figure size 432x288 with 1 Axes>"
      ]
     },
     "metadata": {
      "needs_background": "light"
     },
     "output_type": "display_data"
    }
   ],
   "source": [
    "plt.scatter(X_test, y_test, color ='b')\n",
    "plt.plot(X_test, y_hat, color ='k')\n",
    "  \n",
    "plt.show();"
   ]
  },
  {
   "cell_type": "markdown",
   "id": "1dccde2a",
   "metadata": {},
   "source": [
    "The regression line doesn't fit the data well."
   ]
  },
  {
   "cell_type": "markdown",
   "id": "4d376620",
   "metadata": {},
   "source": [
    "#### Model Evaluation"
   ]
  },
  {
   "cell_type": "code",
   "execution_count": 50,
   "id": "6fe2c63c",
   "metadata": {},
   "outputs": [
    {
     "name": "stdout",
     "output_type": "stream",
     "text": [
      "R-Squared: 0.03970193117941878\n",
      "Mean Absolute Error: 9784.652596271331\n",
      "Mean Squared Error: 149085057.03839505\n",
      "Root Mean Squared Error: 12210.039190698571\n"
     ]
    },
    {
     "data": {
      "text/html": [
       "<div>\n",
       "<style scoped>\n",
       "    .dataframe tbody tr th:only-of-type {\n",
       "        vertical-align: middle;\n",
       "    }\n",
       "\n",
       "    .dataframe tbody tr th {\n",
       "        vertical-align: top;\n",
       "    }\n",
       "\n",
       "    .dataframe thead th {\n",
       "        text-align: right;\n",
       "    }\n",
       "</style>\n",
       "<table border=\"1\" class=\"dataframe\">\n",
       "  <thead>\n",
       "    <tr style=\"text-align: right;\">\n",
       "      <th></th>\n",
       "      <th>Score</th>\n",
       "    </tr>\n",
       "  </thead>\n",
       "  <tbody>\n",
       "    <tr>\n",
       "      <th>R-squared</th>\n",
       "      <td>3.970193e-02</td>\n",
       "    </tr>\n",
       "    <tr>\n",
       "      <th>MAE</th>\n",
       "      <td>9.784653e+03</td>\n",
       "    </tr>\n",
       "    <tr>\n",
       "      <th>MSE</th>\n",
       "      <td>1.490851e+08</td>\n",
       "    </tr>\n",
       "    <tr>\n",
       "      <th>RMSE</th>\n",
       "      <td>1.221004e+04</td>\n",
       "    </tr>\n",
       "  </tbody>\n",
       "</table>\n",
       "</div>"
      ],
      "text/plain": [
       "                  Score\n",
       "R-squared  3.970193e-02\n",
       "MAE        9.784653e+03\n",
       "MSE        1.490851e+08\n",
       "RMSE       1.221004e+04"
      ]
     },
     "execution_count": 50,
     "metadata": {},
     "output_type": "execute_result"
    }
   ],
   "source": [
    "#R-Squared\n",
    "r2 = r2_score(y_test, y_hat)\n",
    "print('R-Squared:', r2)\n",
    "\n",
    "#MAE\n",
    "mae = mean_absolute_error(y_test, y_hat)\n",
    "print('Mean Absolute Error:', mae)\n",
    "\n",
    "#mse\n",
    "mse = mean_squared_error(y_test, y_hat)\n",
    "print('Mean Squared Error:', mse)\n",
    "\n",
    "#rmse\n",
    "rmse = mean_squared_error(y_test, y_hat, squared=False)\n",
    "print('Root Mean Squared Error:', rmse)\n",
    "\n",
    "#create a list of the metrics \n",
    "simple_model_metrics = [r2, mae, mse, rmse]\n",
    "simple_model_metrics\n",
    "\n",
    "#create a dataframe of the metrics\n",
    "simple_metrics = pd.DataFrame(simple_model_metrics, \n",
    "                          index=[\"R-squared\", \"MAE\", \"MSE\", \"RMSE\"], \n",
    "                          columns=[\"Score\"])\n",
    "simple_metrics"
   ]
  },
  {
   "cell_type": "markdown",
   "id": "5b22e29d",
   "metadata": {},
   "source": [
    "### 2. Multiple Linear Regression"
   ]
  },
  {
   "cell_type": "markdown",
   "id": "72982365",
   "metadata": {},
   "source": [
    "#### Data selection"
   ]
  },
  {
   "cell_type": "code",
   "execution_count": 51,
   "id": "fb26713e",
   "metadata": {},
   "outputs": [],
   "source": [
    "target = \"charges\"\n",
    "y = data[target]\n",
    "\n",
    "X = data.drop(columns=target)"
   ]
  },
  {
   "cell_type": "markdown",
   "id": "61a3a04d",
   "metadata": {},
   "source": [
    "#### Split data"
   ]
  },
  {
   "cell_type": "code",
   "execution_count": 52,
   "id": "298a7472",
   "metadata": {},
   "outputs": [
    {
     "name": "stdout",
     "output_type": "stream",
     "text": [
      "Train set: (1070, 4) (1070,)\n",
      "Test set: (268, 4) (268,)\n"
     ]
    }
   ],
   "source": [
    "X_train, X_test, y_train, y_test = train_test_split(X, y, test_size=0.2, random_state=42)\n",
    "print('Train set:', X_train.shape, y_train.shape)\n",
    "print('Test set:', X_test.shape, y_test.shape)"
   ]
  },
  {
   "cell_type": "markdown",
   "id": "48dddaa0",
   "metadata": {},
   "source": [
    "#### Build Model"
   ]
  },
  {
   "cell_type": "code",
   "execution_count": 53,
   "id": "820ad024",
   "metadata": {},
   "outputs": [
    {
     "data": {
      "text/plain": [
       "LinearRegression()"
      ]
     },
     "execution_count": 53,
     "metadata": {},
     "output_type": "execute_result"
    }
   ],
   "source": [
    "#Instantiate the model\n",
    "multiple_model = LinearRegression()\n",
    "\n",
    "#Fit the model to training data\n",
    "multiple_model.fit(X_train, y_train)"
   ]
  },
  {
   "cell_type": "markdown",
   "id": "af77c89f",
   "metadata": {},
   "source": [
    "#### Make predictions"
   ]
  },
  {
   "cell_type": "code",
   "execution_count": 54,
   "id": "b969a651",
   "metadata": {},
   "outputs": [
    {
     "data": {
      "text/plain": [
       "array([ 8550.90921341,  6969.71599759, 36794.13661808,  9421.86824203,\n",
       "       26875.01095777])"
      ]
     },
     "execution_count": 54,
     "metadata": {},
     "output_type": "execute_result"
    }
   ],
   "source": [
    "y_hat = multiple_model.predict(X_test)\n",
    "\n",
    "#Check a few lines of the predictions\n",
    "y_hat[:5]"
   ]
  },
  {
   "cell_type": "markdown",
   "id": "25237e8d",
   "metadata": {},
   "source": [
    "#### Model Evaluation"
   ]
  },
  {
   "cell_type": "code",
   "execution_count": 56,
   "id": "8bec7928",
   "metadata": {},
   "outputs": [
    {
     "name": "stdout",
     "output_type": "stream",
     "text": [
      "R-Squared: 0.7811147722517887\n",
      "Mean Absolute Error: 4213.798594527248\n",
      "Mean Squared Error: 33981653.95019775\n",
      "Root Mean Squared Error: 5829.378521780666\n"
     ]
    },
    {
     "data": {
      "text/html": [
       "<div>\n",
       "<style scoped>\n",
       "    .dataframe tbody tr th:only-of-type {\n",
       "        vertical-align: middle;\n",
       "    }\n",
       "\n",
       "    .dataframe tbody tr th {\n",
       "        vertical-align: top;\n",
       "    }\n",
       "\n",
       "    .dataframe thead th {\n",
       "        text-align: right;\n",
       "    }\n",
       "</style>\n",
       "<table border=\"1\" class=\"dataframe\">\n",
       "  <thead>\n",
       "    <tr style=\"text-align: right;\">\n",
       "      <th></th>\n",
       "      <th>Score</th>\n",
       "    </tr>\n",
       "  </thead>\n",
       "  <tbody>\n",
       "    <tr>\n",
       "      <th>R-squared</th>\n",
       "      <td>7.811148e-01</td>\n",
       "    </tr>\n",
       "    <tr>\n",
       "      <th>MAE</th>\n",
       "      <td>4.213799e+03</td>\n",
       "    </tr>\n",
       "    <tr>\n",
       "      <th>MSE</th>\n",
       "      <td>3.398165e+07</td>\n",
       "    </tr>\n",
       "    <tr>\n",
       "      <th>RMSE</th>\n",
       "      <td>5.829379e+03</td>\n",
       "    </tr>\n",
       "  </tbody>\n",
       "</table>\n",
       "</div>"
      ],
      "text/plain": [
       "                  Score\n",
       "R-squared  7.811148e-01\n",
       "MAE        4.213799e+03\n",
       "MSE        3.398165e+07\n",
       "RMSE       5.829379e+03"
      ]
     },
     "execution_count": 56,
     "metadata": {},
     "output_type": "execute_result"
    }
   ],
   "source": [
    "#R-Squared\n",
    "r2 = r2_score(y_test, y_hat)\n",
    "print('R-Squared:', r2)\n",
    "\n",
    "#MAE\n",
    "mae = mean_absolute_error(y_test, y_hat)\n",
    "print('Mean Absolute Error:', mae)\n",
    "\n",
    "#mse\n",
    "mse = mean_squared_error(y_test, y_hat)\n",
    "print('Mean Squared Error:', mse)\n",
    "\n",
    "#rmse\n",
    "rmse = mean_squared_error(y_test, y_hat, squared=False)\n",
    "print('Root Mean Squared Error:', rmse)\n",
    "\n",
    "#create a list of the metrics \n",
    "multiple_model_metrics = [r2, mae, mse, rmse]\n",
    "multiple_model_metrics\n",
    "\n",
    "#create a dataframe of the metrics\n",
    "multiple_metrics = pd.DataFrame(multiple_model_metrics, \n",
    "                          index=[\"R-squared\", \"MAE\", \"MSE\", \"RMSE\"], \n",
    "                          columns=[\"Score\"])\n",
    "multiple_metrics"
   ]
  },
  {
   "cell_type": "markdown",
   "id": "ee69d705",
   "metadata": {},
   "source": [
    "### 3. Ridge Regression\n",
    "\n",
    "sklearn.linear_model.Ridge is the module used to solve a regression model where loss function is the linear least squares function and regularization is L2"
   ]
  },
  {
   "cell_type": "markdown",
   "id": "74b91003",
   "metadata": {},
   "source": [
    "#### Data selection"
   ]
  },
  {
   "cell_type": "code",
   "execution_count": 57,
   "id": "24c562ad",
   "metadata": {},
   "outputs": [],
   "source": [
    "target = \"charges\"\n",
    "y = data[target]\n",
    "\n",
    "X = data.drop(columns=target)"
   ]
  },
  {
   "cell_type": "markdown",
   "id": "0333cc71",
   "metadata": {},
   "source": [
    "#### Split data"
   ]
  },
  {
   "cell_type": "code",
   "execution_count": 58,
   "id": "68ab91e5",
   "metadata": {},
   "outputs": [
    {
     "name": "stdout",
     "output_type": "stream",
     "text": [
      "Train set: (1070, 4) (1070,)\n",
      "Test set: (268, 4) (268,)\n"
     ]
    }
   ],
   "source": [
    "X_train, X_test, y_train, y_test = train_test_split(X, y, test_size=0.2, random_state=42)\n",
    "print('Train set:', X_train.shape, y_train.shape)\n",
    "print('Test set:', X_test.shape, y_test.shape)"
   ]
  },
  {
   "cell_type": "markdown",
   "id": "62cd3813",
   "metadata": {},
   "source": [
    "#### Build Model"
   ]
  },
  {
   "cell_type": "code",
   "execution_count": 59,
   "id": "782cc8d4",
   "metadata": {},
   "outputs": [
    {
     "data": {
      "text/plain": [
       "Ridge(random_state=42)"
      ]
     },
     "execution_count": 59,
     "metadata": {},
     "output_type": "execute_result"
    }
   ],
   "source": [
    "#Instantiate the model\n",
    "ridge_model = Ridge(random_state=42)\n",
    "\n",
    "#Fit the model to training data\n",
    "ridge_model.fit(X_train, y_train)"
   ]
  },
  {
   "cell_type": "markdown",
   "id": "f1eeee84",
   "metadata": {},
   "source": [
    "#### Model predictions"
   ]
  },
  {
   "cell_type": "code",
   "execution_count": 60,
   "id": "7052e1f9",
   "metadata": {},
   "outputs": [
    {
     "data": {
      "text/plain": [
       "array([ 8577.84674681,  6997.59146985, 36681.20908142,  9449.11311462,\n",
       "       26771.46745829])"
      ]
     },
     "execution_count": 60,
     "metadata": {},
     "output_type": "execute_result"
    }
   ],
   "source": [
    "y_hat = ridge_model.predict(X_test)\n",
    "\n",
    "#Check a few lines of the predictions\n",
    "y_hat[:5]"
   ]
  },
  {
   "cell_type": "markdown",
   "id": "1ac11563",
   "metadata": {},
   "source": [
    "#### Model Evaluation"
   ]
  },
  {
   "cell_type": "code",
   "execution_count": 62,
   "id": "91f43349",
   "metadata": {},
   "outputs": [
    {
     "name": "stdout",
     "output_type": "stream",
     "text": [
      "R-Squared: 0.7808720464897415\n",
      "Mean Absolute Error: 4225.750279059395\n",
      "Mean Squared Error: 34019336.816855945\n",
      "Root Mean Squared Error: 5832.609777522918\n"
     ]
    },
    {
     "data": {
      "text/html": [
       "<div>\n",
       "<style scoped>\n",
       "    .dataframe tbody tr th:only-of-type {\n",
       "        vertical-align: middle;\n",
       "    }\n",
       "\n",
       "    .dataframe tbody tr th {\n",
       "        vertical-align: top;\n",
       "    }\n",
       "\n",
       "    .dataframe thead th {\n",
       "        text-align: right;\n",
       "    }\n",
       "</style>\n",
       "<table border=\"1\" class=\"dataframe\">\n",
       "  <thead>\n",
       "    <tr style=\"text-align: right;\">\n",
       "      <th></th>\n",
       "      <th>Score</th>\n",
       "    </tr>\n",
       "  </thead>\n",
       "  <tbody>\n",
       "    <tr>\n",
       "      <th>R-squared</th>\n",
       "      <td>7.808720e-01</td>\n",
       "    </tr>\n",
       "    <tr>\n",
       "      <th>MAE</th>\n",
       "      <td>4.225750e+03</td>\n",
       "    </tr>\n",
       "    <tr>\n",
       "      <th>MSE</th>\n",
       "      <td>3.401934e+07</td>\n",
       "    </tr>\n",
       "    <tr>\n",
       "      <th>RMSE</th>\n",
       "      <td>5.832610e+03</td>\n",
       "    </tr>\n",
       "  </tbody>\n",
       "</table>\n",
       "</div>"
      ],
      "text/plain": [
       "                  Score\n",
       "R-squared  7.808720e-01\n",
       "MAE        4.225750e+03\n",
       "MSE        3.401934e+07\n",
       "RMSE       5.832610e+03"
      ]
     },
     "execution_count": 62,
     "metadata": {},
     "output_type": "execute_result"
    }
   ],
   "source": [
    "#R-Squared\n",
    "r2 = r2_score(y_test, y_hat)\n",
    "print('R-Squared:', r2)\n",
    "\n",
    "#MAE\n",
    "mae = mean_absolute_error(y_test, y_hat)\n",
    "print('Mean Absolute Error:', mae)\n",
    "\n",
    "#mse\n",
    "mse = mean_squared_error(y_test, y_hat)\n",
    "print('Mean Squared Error:', mse)\n",
    "\n",
    "#rmse\n",
    "rmse = mean_squared_error(y_test, y_hat, squared=False)\n",
    "print('Root Mean Squared Error:', rmse)\n",
    "\n",
    "#create a list of the metrics \n",
    "ridge_model_metrics = [r2, mae, mse, rmse]\n",
    "ridge_model_metrics\n",
    "\n",
    "#create a dataframe of the metrics\n",
    "ridge_metrics = pd.DataFrame(ridge_model_metrics, \n",
    "                          index=[\"R-squared\", \"MAE\", \"MSE\", \"RMSE\"], \n",
    "                          columns=[\"Score\"])\n",
    "ridge_metrics"
   ]
  },
  {
   "cell_type": "markdown",
   "id": "4d195389",
   "metadata": {},
   "source": [
    "### Summary of evaluation metrics"
   ]
  },
  {
   "cell_type": "code",
   "execution_count": 63,
   "id": "fbf074a5",
   "metadata": {},
   "outputs": [
    {
     "data": {
      "text/html": [
       "<div>\n",
       "<style scoped>\n",
       "    .dataframe tbody tr th:only-of-type {\n",
       "        vertical-align: middle;\n",
       "    }\n",
       "\n",
       "    .dataframe tbody tr th {\n",
       "        vertical-align: top;\n",
       "    }\n",
       "\n",
       "    .dataframe thead th {\n",
       "        text-align: right;\n",
       "    }\n",
       "</style>\n",
       "<table border=\"1\" class=\"dataframe\">\n",
       "  <thead>\n",
       "    <tr style=\"text-align: right;\">\n",
       "      <th></th>\n",
       "      <th>Simple Linear Regression</th>\n",
       "      <th>Multiple Linear Regression</th>\n",
       "      <th>Ridge Regression</th>\n",
       "    </tr>\n",
       "  </thead>\n",
       "  <tbody>\n",
       "    <tr>\n",
       "      <th>R-Squared</th>\n",
       "      <td>3.970193e-02</td>\n",
       "      <td>7.811148e-01</td>\n",
       "      <td>7.808720e-01</td>\n",
       "    </tr>\n",
       "    <tr>\n",
       "      <th>Mean Absolute Error</th>\n",
       "      <td>9.784653e+03</td>\n",
       "      <td>4.213799e+03</td>\n",
       "      <td>4.225750e+03</td>\n",
       "    </tr>\n",
       "    <tr>\n",
       "      <th>Mean Squared Error</th>\n",
       "      <td>1.490851e+08</td>\n",
       "      <td>3.398165e+07</td>\n",
       "      <td>3.401934e+07</td>\n",
       "    </tr>\n",
       "    <tr>\n",
       "      <th>Root Mean Squared Error</th>\n",
       "      <td>1.221004e+04</td>\n",
       "      <td>5.829379e+03</td>\n",
       "      <td>5.832610e+03</td>\n",
       "    </tr>\n",
       "  </tbody>\n",
       "</table>\n",
       "</div>"
      ],
      "text/plain": [
       "                         Simple Linear Regression  Multiple Linear Regression  \\\n",
       "R-Squared                            3.970193e-02                7.811148e-01   \n",
       "Mean Absolute Error                  9.784653e+03                4.213799e+03   \n",
       "Mean Squared Error                   1.490851e+08                3.398165e+07   \n",
       "Root Mean Squared Error              1.221004e+04                5.829379e+03   \n",
       "\n",
       "                         Ridge Regression  \n",
       "R-Squared                    7.808720e-01  \n",
       "Mean Absolute Error          4.225750e+03  \n",
       "Mean Squared Error           3.401934e+07  \n",
       "Root Mean Squared Error      5.832610e+03  "
      ]
     },
     "execution_count": 63,
     "metadata": {},
     "output_type": "execute_result"
    }
   ],
   "source": [
    "#Dataframe of evaluation metrics for all the models\n",
    "evaluation_metrics_df = pd.DataFrame(\n",
    "    {\n",
    "    'Simple Linear Regression': simple_model_metrics,\n",
    "    'Multiple Linear Regression': multiple_model_metrics,\n",
    "    'Ridge Regression': ridge_model_metrics\n",
    "    },\n",
    "    index = ['R-Squared', 'Mean Absolute Error', 'Mean Squared Error', 'Root Mean Squared Error']\n",
    ")\n",
    "\n",
    "evaluation_metrics_df"
   ]
  },
  {
   "cell_type": "markdown",
   "id": "274aaaba",
   "metadata": {},
   "source": [
    "### Conclusion"
   ]
  },
  {
   "cell_type": "markdown",
   "id": "84ccb774",
   "metadata": {},
   "source": [
    "R-squared gives the proportion of variation in the target variable that is explained by the combination of independent variables in the model. A high value of R-squared indicates that much of the variation has been explained by the model and hence the model is a good fir to the data."
   ]
  },
  {
   "cell_type": "markdown",
   "id": "e7b4bc67",
   "metadata": {},
   "source": [
    "Mean squared error measures the amount of error in the regression models. It will assess the average squared difference between the true values and the predicted values. A small value of mean squared error is desireable as it shows that the true values and the predicted values do not differ much. A good model should therefore have a small mean square error.\n",
    "\n",
    "Root mean squared error is just the square root of mean absolute error. A good model should have a small root mean squared error."
   ]
  },
  {
   "cell_type": "markdown",
   "id": "ee73d1f1",
   "metadata": {},
   "source": [
    "Mean absolute error measures the absolute difference between true values and predicted values. It is thus desireable for a good model to have a small mean absolute error as an indication that the predicted values are close to the true values."
   ]
  },
  {
   "cell_type": "markdown",
   "id": "88f5bddf",
   "metadata": {},
   "source": [
    "#### Using the evaluation metrics above, we can see that the multiple linear regression model performed better than the other models.\n",
    "\n",
    "#### The multiple linear regression has the highest value of R-squared, a value of 78.11%.\n",
    "#### This shows that it is a good fit to the data and hence the best model to predict the amount of charges (premium) that an individual will pay given the independent health related variables."
   ]
  },
  {
   "cell_type": "markdown",
   "id": "f6de1e74",
   "metadata": {},
   "source": [
    "### Feature importances of the Best Model\n",
    "\n",
    "This shows us the weights of the different independent variables in predicting the dependent variable, charges"
   ]
  },
  {
   "cell_type": "code",
   "execution_count": 64,
   "id": "900086bc",
   "metadata": {},
   "outputs": [
    {
     "data": {
      "text/plain": [
       "age           257.071158\n",
       "bmi           327.522631\n",
       "children      427.199971\n",
       "smoker      23653.211646\n",
       "dtype: float64"
      ]
     },
     "execution_count": 64,
     "metadata": {},
     "output_type": "execute_result"
    }
   ],
   "source": [
    "#get coefficients\n",
    "coefficients = multiple_model.coef_\n",
    "\n",
    "#create a pandas series with the importances\n",
    "feat_imp = pd.Series(coefficients, index=X_train.columns)\n",
    "\n",
    "feat_imp"
   ]
  },
  {
   "cell_type": "markdown",
   "id": "4cc2991c",
   "metadata": {},
   "source": [
    "##### Create a horizontal bar graph to show the order of importance of independent variables based on absolute value"
   ]
  },
  {
   "cell_type": "code",
   "execution_count": 65,
   "id": "9417b0ac",
   "metadata": {},
   "outputs": [
    {
     "data": {
      "image/png": "[encoded data removed]",
      "text/plain": [
       "<Figure size 432x288 with 1 Axes>"
      ]
     },
     "metadata": {
      "needs_background": "light"
     },
     "output_type": "display_data"
    }
   ],
   "source": [
    "feat_imp.sort_values(key=abs, ascending=False).plot(kind='barh')\n",
    "plt.xlabel('Charges [USD]')\n",
    "plt.ylabel('Feature')\n",
    "plt.title('Feature Importance for Premium charges');"
   ]
  },
  {
   "cell_type": "markdown",
   "id": "161c8583",
   "metadata": {},
   "source": [
    "##### Smoker variable (the smoking status of an individual)  is the top feature in predicting the amount of premium an individual will pay.\n",
    "##### Smoking increases the amount of premium paid."
   ]
  }
 ],
 "metadata": {
  "kernelspec": {
   "display_name": "Python 3 (ipykernel)",
   "language": "python",
   "name": "python3"
  },
  "language_info": {
   "codemirror_mode": {
    "name": "ipython",
    "version": 3
   },
   "file_extension": ".py",
   "mimetype": "text/x-python",
   "name": "python",
   "nbconvert_exporter": "python",
   "pygments_lexer": "ipython3",
   "version": "3.8.8"
  }
 },
 "nbformat": 4,
 "nbformat_minor": 5
}
